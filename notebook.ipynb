{
 "cells": [
  {
   "cell_type": "code",
   "execution_count": 42,
   "metadata": {},
   "outputs": [],
   "source": [
    "from langchain.chat_models import ChatOpenAI\n",
    "from langchain.prompts import  ChatPromptTemplate\n",
    "from langchain.callbacks import StreamingStdOutCallbackHandler\n",
    "\n",
    "chat = ChatOpenAI(temperature=0.1, streaming=True, callbacks=[StreamingStdOutCallbackHandler()])\n",
    "chat_prompt = ChatPromptTemplate.from_messages([\n",
    "  (\"system\", \"\"),\n",
    "  (\"human\", \"I want to cook {cousine} food\")\n",
    "])\n",
    "chef_chain = chat_prompt|chat"
   ]
  },
  {
   "cell_type": "code",
   "execution_count": 43,
   "metadata": {},
   "outputs": [
    {
     "name": "stdout",
     "output_type": "stream",
     "text": [
      "That's great! Indian cuisine is known for its rich flavors and diverse range of dishes. Here are a few popular Indian recipes you can try:\n",
      "\n",
      "1. Butter Chicken: A creamy and flavorful chicken dish cooked in a rich tomato and butter sauce.\n",
      "\n",
      "2. Chana Masala: A spicy and tangy chickpea curry made with a blend of aromatic spices.\n",
      "\n",
      "3. Palak Paneer: A creamy spinach and paneer (Indian cottage cheese) curry that is both nutritious and delicious.\n",
      "\n",
      "4. Biryani: A fragrant and flavorful rice dish cooked with meat, vegetables, and a blend of spices.\n",
      "\n",
      "5. Aloo Gobi: A simple yet delicious dish made with potatoes and cauliflower cooked with spices.\n",
      "\n",
      "These are just a few examples of the many delicious Indian dishes you can try cooking at home. Enjoy your culinary adventure!Here is an easy-to-follow recipe for Butter Chicken, a classic and beloved Indian dish:\n",
      "\n",
      "Ingredients:\n",
      "- 1 lb boneless, skinless chicken thighs or breasts, cut into bite-sized pieces\n",
      "- 1 cup plain yogurt\n",
      "- 2 tbsp lemon juice\n",
      "- 2 tsp garam masala\n",
      "- 1 tsp ground cumin\n",
      "- 1 tsp ground turmeric\n",
      "- 1 tsp chili powder\n",
      "- 1 tsp ground coriander\n",
      "- 1 tsp paprika\n",
      "- 4 tbsp butter\n",
      "- 1 onion, finely chopped\n",
      "- 3 cloves garlic, minced\n",
      "- 1-inch piece of ginger, grated\n",
      "- 1 cup tomato puree\n",
      "- 1 cup heavy cream\n",
      "- Salt and pepper, to taste\n",
      "- Fresh cilantro, for garnish\n",
      "\n",
      "Instructions:\n",
      "1. In a bowl, combine the yogurt, lemon juice, garam masala, cumin, turmeric, chili powder, coriander, and paprika. Add the chicken pieces and marinate for at least 1 hour, preferably overnight.\n",
      "\n",
      "2. In a large skillet or pan, melt the butter over medium heat. Add the chopped onion and cook until softened, about 5 minutes.\n",
      "\n",
      "3. Add the minced garlic and grated ginger to the pan and cook for another 2 minutes until fragrant.\n",
      "\n",
      "4. Add the marinated chicken pieces to the pan and cook until browned on all sides, about 5-7 minutes.\n",
      "\n",
      "5. Stir in the tomato puree and heavy cream. Season with salt and pepper to taste. Simmer the mixture for 15-20 minutes until the chicken is cooked through and the sauce has thickened.\n",
      "\n",
      "6. Garnish with fresh cilantro and serve hot with steamed rice or naan bread.\n",
      "\n",
      "Enjoy your homemade Butter Chicken, a delicious and comforting Indian dish that is sure to impress!"
     ]
    },
    {
     "data": {
      "text/plain": [
       "AIMessageChunk(content='Here is an easy-to-follow recipe for Butter Chicken, a classic and beloved Indian dish:\\n\\nIngredients:\\n- 1 lb boneless, skinless chicken thighs or breasts, cut into bite-sized pieces\\n- 1 cup plain yogurt\\n- 2 tbsp lemon juice\\n- 2 tsp garam masala\\n- 1 tsp ground cumin\\n- 1 tsp ground turmeric\\n- 1 tsp chili powder\\n- 1 tsp ground coriander\\n- 1 tsp paprika\\n- 4 tbsp butter\\n- 1 onion, finely chopped\\n- 3 cloves garlic, minced\\n- 1-inch piece of ginger, grated\\n- 1 cup tomato puree\\n- 1 cup heavy cream\\n- Salt and pepper, to taste\\n- Fresh cilantro, for garnish\\n\\nInstructions:\\n1. In a bowl, combine the yogurt, lemon juice, garam masala, cumin, turmeric, chili powder, coriander, and paprika. Add the chicken pieces and marinate for at least 1 hour, preferably overnight.\\n\\n2. In a large skillet or pan, melt the butter over medium heat. Add the chopped onion and cook until softened, about 5 minutes.\\n\\n3. Add the minced garlic and grated ginger to the pan and cook for another 2 minutes until fragrant.\\n\\n4. Add the marinated chicken pieces to the pan and cook until browned on all sides, about 5-7 minutes.\\n\\n5. Stir in the tomato puree and heavy cream. Season with salt and pepper to taste. Simmer the mixture for 15-20 minutes until the chicken is cooked through and the sauce has thickened.\\n\\n6. Garnish with fresh cilantro and serve hot with steamed rice or naan bread.\\n\\nEnjoy your homemade Butter Chicken, a delicious and comforting Indian dish that is sure to impress!')"
      ]
     },
     "execution_count": 43,
     "metadata": {},
     "output_type": "execute_result"
    }
   ],
   "source": [
    "veg_chef_prompt = ChatPromptTemplate.from_messages([\n",
    "  (\"system\", \n",
    "   \"You are a world-class international chef. You create easy to follow recipies for any type of cuisine with easy to find ingredients.\"),\n",
    "  (\"human\", \"{recipe}\")\n",
    "])\n",
    "\n",
    "veg_chain = veg_chef_prompt | chat\n",
    "final_chain = {\"recipe\":chef_chain} |veg_chain\n",
    "final_chain.invoke({\"cousine\":\"indian\"})"
   ]
  }
 ],
 "metadata": {
  "kernelspec": {
   "display_name": "env",
   "language": "python",
   "name": "python3"
  },
  "language_info": {
   "codemirror_mode": {
    "name": "ipython",
    "version": 3
   },
   "file_extension": ".py",
   "mimetype": "text/x-python",
   "name": "python",
   "nbconvert_exporter": "python",
   "pygments_lexer": "ipython3",
   "version": "3.11.7"
  }
 },
 "nbformat": 4,
 "nbformat_minor": 2
}
