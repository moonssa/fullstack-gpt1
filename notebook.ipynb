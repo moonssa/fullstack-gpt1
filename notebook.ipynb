{
 "cells": [
  {
   "cell_type": "code",
   "execution_count": 24,
   "metadata": {},
   "outputs": [
    {
     "name": "stdout",
     "output_type": "stream",
     "text": [
      "\n",
      "\n",
      "\u001b[1m> Entering new LLMChain chain...\u001b[0m\n",
      "Prompt after formatting:\n",
      "\u001b[32;1m\u001b[1;3mMy name is Heon\u001b[0m\n",
      "\n",
      "\u001b[1m> Finished chain.\u001b[0m\n"
     ]
    },
    {
     "data": {
      "text/plain": [
       "'Nice to meet you, Heon! How can I assist you today?'"
      ]
     },
     "execution_count": 24,
     "metadata": {},
     "output_type": "execute_result"
    }
   ],
   "source": [
    "from langchain.memory import ConversationSummaryBufferMemory\n",
    "from langchain.chat_models import ChatOpenAI\n",
    "from langchain.chains import LLMChain\n",
    "from langchain.prompts import PromptTemplate\n",
    "\n",
    "llm = ChatOpenAI(temperature=0.1)\n",
    "\n",
    "memory = ConversationSummaryBufferMemory(\n",
    "  llm=llm,\n",
    "  max_token_limit=120,\n",
    "  memory_key=\"chat_history\"   # 템플릿안에 메모리가 history를 저장하도록 한 곳을 적어준다.\n",
    ")\n",
    "\n",
    "template=\"\"\"\n",
    "\n",
    "  You are helpful AI talking to a human\n",
    "\n",
    "  {chat_history}\n",
    "  Human:{question}\n",
    "  You:\n",
    "\"\"\"\n",
    "\n",
    "chain = LLMChain(\n",
    "  llm=llm,\n",
    "  memory=memory,\n",
    "  prompt=PromptTemplate.from_template(template),\n",
    "  verbose=True  #chain  프롬프트 로그를 확인 할 수 있다\n",
    ")\n",
    "\n",
    "\n",
    "chain.predict(question=\"My name is Heon\")\n",
    "\n"
   ]
  },
  {
   "cell_type": "code",
   "execution_count": 25,
   "metadata": {},
   "outputs": [
    {
     "name": "stdout",
     "output_type": "stream",
     "text": [
      "\n",
      "\n",
      "\u001b[1m> Entering new LLMChain chain...\u001b[0m\n",
      "Prompt after formatting:\n",
      "\u001b[32;1m\u001b[1;3mI live in Seoul\u001b[0m\n",
      "\n",
      "\u001b[1m> Finished chain.\u001b[0m\n"
     ]
    },
    {
     "data": {
      "text/plain": [
       "\"That's great! Seoul is a vibrant and bustling city with a rich history and culture. There are so many things to see and do in Seoul, from exploring ancient palaces and temples to enjoying delicious Korean cuisine and shopping in trendy neighborhoods. What do you enjoy most about living in Seoul?\""
      ]
     },
     "execution_count": 25,
     "metadata": {},
     "output_type": "execute_result"
    }
   ],
   "source": [
    "chain.predict(question=\"I live in Seoul\")\n"
   ]
  },
  {
   "cell_type": "code",
   "execution_count": 26,
   "metadata": {},
   "outputs": [
    {
     "name": "stdout",
     "output_type": "stream",
     "text": [
      "\n",
      "\n",
      "\u001b[1m> Entering new LLMChain chain...\u001b[0m\n",
      "Prompt after formatting:\n",
      "\u001b[32;1m\u001b[1;3mWhat is my name?\u001b[0m\n",
      "\n",
      "\u001b[1m> Finished chain.\u001b[0m\n"
     ]
    },
    {
     "data": {
      "text/plain": [
       "\"I'm sorry, I do not have access to personal information such as your name.\""
      ]
     },
     "execution_count": 26,
     "metadata": {},
     "output_type": "execute_result"
    }
   ],
   "source": [
    "chain.predict(question=\"What is my name?\")"
   ]
  },
  {
   "cell_type": "code",
   "execution_count": 27,
   "metadata": {},
   "outputs": [
    {
     "data": {
      "text/plain": [
       "{'history': \"System: Heon introduces themselves as living in Seoul. The AI responds by acknowledging Seoul as a vibrant city with a rich history and culture, asking Heon what they enjoy most about living there.\\nHuman: What is my name?\\nAI: I'm sorry, I do not have access to personal information such as your name.\"}"
      ]
     },
     "execution_count": 27,
     "metadata": {},
     "output_type": "execute_result"
    }
   ],
   "source": [
    "memory.load_memory_variables({})"
   ]
  },
  {
   "cell_type": "code",
   "execution_count": 5,
   "metadata": {},
   "outputs": [
    {
     "data": {
      "text/plain": [
       "{'history': [HumanMessage(content='South Korea is so pretty'),\n",
       "  AIMessage(content='I wish I could go!!!'),\n",
       "  HumanMessage(content=\"Hi, I'm moonkyung. I live in Seoul\"),\n",
       "  AIMessage(content=\"Wawoo!!  It's cool\"),\n",
       "  HumanMessage(content=\"I can see Jamsil World Tower from my house. It's Jamsil's landmark. The night view is more awesome.\"),\n",
       "  AIMessage(content='I want to go as well.')]}"
      ]
     },
     "execution_count": 5,
     "metadata": {},
     "output_type": "execute_result"
    }
   ],
   "source": [
    "add_message(\"I can see Jamsil World Tower from my house. It's Jamsil's landmark. The night view is more awesome.\", \"I want to go as well.\")\n",
    "get_history()"
   ]
  },
  {
   "cell_type": "code",
   "execution_count": 6,
   "metadata": {},
   "outputs": [
    {
     "data": {
      "text/plain": [
       "{'history': [HumanMessage(content='South Korea is so pretty'),\n",
       "  AIMessage(content='I wish I could go!!!'),\n",
       "  HumanMessage(content=\"Hi, I'm moonkyung. I live in Seoul\"),\n",
       "  AIMessage(content=\"Wawoo!!  It's cool\"),\n",
       "  HumanMessage(content=\"I can see Jamsil World Tower from my house. It's Jamsil's landmark. The night view is more awesome.\"),\n",
       "  AIMessage(content='I want to go as well.'),\n",
       "  HumanMessage(content='Have you been to Seochon Lake?  '),\n",
       "  AIMessage(content=\"No,I've heard that the scenery is beautiful \")]}"
      ]
     },
     "execution_count": 6,
     "metadata": {},
     "output_type": "execute_result"
    }
   ],
   "source": [
    "add_message(\"Have you been to Seochon Lake?  \" , \"No,I've heard that the scenery is beautiful \")\n",
    "get_history()\n",
    "\n"
   ]
  },
  {
   "cell_type": "code",
   "execution_count": 7,
   "metadata": {},
   "outputs": [
    {
     "data": {
      "text/plain": [
       "{'history': [SystemMessage(content='The human comments on the beauty of South Korea.'),\n",
       "  AIMessage(content='I wish I could go!!!'),\n",
       "  HumanMessage(content=\"Hi, I'm moonkyung. I live in Seoul\"),\n",
       "  AIMessage(content=\"Wawoo!!  It's cool\"),\n",
       "  HumanMessage(content=\"I can see Jamsil World Tower from my house. It's Jamsil's landmark. The night view is more awesome.\"),\n",
       "  AIMessage(content='I want to go as well.'),\n",
       "  HumanMessage(content='Have you been to Seochon Lake?  '),\n",
       "  AIMessage(content=\"No,I've heard that the scenery is beautiful \"),\n",
       "  HumanMessage(content='Wawoo!!  The Lake is beautiful in spring  '),\n",
       "  AIMessage(content=' really ')]}"
      ]
     },
     "execution_count": 7,
     "metadata": {},
     "output_type": "execute_result"
    }
   ],
   "source": [
    "add_message(\"Wawoo!!  The Lake is beautiful in spring  \" , \" really \")\n",
    "get_history()\n"
   ]
  },
  {
   "cell_type": "code",
   "execution_count": 8,
   "metadata": {},
   "outputs": [
    {
     "data": {
      "text/plain": [
       "{'history': [SystemMessage(content='The human comments on the beauty of South Korea. The AI expresses a desire to visit, and the human introduces themselves as Moonkyung from Seoul.'),\n",
       "  AIMessage(content=\"Wawoo!!  It's cool\"),\n",
       "  HumanMessage(content=\"I can see Jamsil World Tower from my house. It's Jamsil's landmark. The night view is more awesome.\"),\n",
       "  AIMessage(content='I want to go as well.'),\n",
       "  HumanMessage(content='Have you been to Seochon Lake?  '),\n",
       "  AIMessage(content=\"No,I've heard that the scenery is beautiful \"),\n",
       "  HumanMessage(content='Wawoo!!  The Lake is beautiful in spring  '),\n",
       "  AIMessage(content=' really '),\n",
       "  HumanMessage(content='If you come to Jamsil, you will like this place'),\n",
       "  AIMessage(content=\" I think so. I'm looking forward to it \")]}"
      ]
     },
     "execution_count": 8,
     "metadata": {},
     "output_type": "execute_result"
    }
   ],
   "source": [
    "add_message(\"If you come to Jamsil, you will like this place\" , \" I think so. I'm looking forward to it \")\n",
    "get_history()\n"
   ]
  },
  {
   "cell_type": "code",
   "execution_count": 13,
   "metadata": {},
   "outputs": [
    {
     "data": {
      "text/plain": [
       "{'history': [SystemMessage(content='On moon: moon is human. moon lives in Seoul.')]}"
      ]
     },
     "execution_count": 13,
     "metadata": {},
     "output_type": "execute_result"
    }
   ],
   "source": [
    "from langchain.memory import ConversationKGMemory\n",
    "memory = ConversationKGMemory(\n",
    "  llm=llm,\n",
    "  return_messages=True\n",
    ")\n",
    "\n",
    "def add_message(input, output):\n",
    "  memory.save_context({\"input\":input}, {\"output\":output})\n",
    "\n",
    "add_message(\"Hi, I'm moon, I live in Seoul\", \"Wow that is so cool\")\n",
    "memory.load_memory_variables({\"inputs\":\"Who is moon?\"})\n"
   ]
  },
  {
   "cell_type": "code",
   "execution_count": 16,
   "metadata": {},
   "outputs": [],
   "source": [
    "add_message(\"moon likes wine\", \"Wow that is so cool\")\n"
   ]
  },
  {
   "cell_type": "code",
   "execution_count": 17,
   "metadata": {},
   "outputs": [
    {
     "data": {
      "text/plain": [
       "{'history': [SystemMessage(content='On moon: moon is human. moon lives in Seoul. moon likes wine.')]}"
      ]
     },
     "execution_count": 17,
     "metadata": {},
     "output_type": "execute_result"
    }
   ],
   "source": [
    "memory.load_memory_variables({\"inputs\":\"what does moon like\"})"
   ]
  }
 ],
 "metadata": {
  "kernelspec": {
   "display_name": "env",
   "language": "python",
   "name": "python3"
  },
  "language_info": {
   "codemirror_mode": {
    "name": "ipython",
    "version": 3
   },
   "file_extension": ".py",
   "mimetype": "text/x-python",
   "name": "python",
   "nbconvert_exporter": "python",
   "pygments_lexer": "ipython3",
   "version": "3.11.7"
  }
 },
 "nbformat": 4,
 "nbformat_minor": 2
}
